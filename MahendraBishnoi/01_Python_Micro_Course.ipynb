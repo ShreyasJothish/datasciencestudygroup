{
 "cells": [
  {
   "cell_type": "markdown",
   "metadata": {},
   "source": [
    "# Python"
   ]
  },
  {
   "cell_type": "markdown",
   "metadata": {},
   "source": [
    "1. https://www.kaggle.com/colinmorris/hello-python"
   ]
  },
  {
   "cell_type": "code",
   "execution_count": 1,
   "metadata": {},
   "outputs": [],
   "source": [
    "# Variables in Python\n",
    "\n",
    "amount = 0\n",
    "\n",
    "# Here we created a variable named \"amount\" in Python\n",
    "# \"amount\" is assigned a value of 0 using assignment operator \"=\"\n",
    "# No need to declare a variable in Python before assigning to it\n",
    "# Also no need to declare the type of variable like int or float etc.\n",
    "# We can also reassign this variable to any type "
   ]
  },
  {
   "cell_type": "code",
   "execution_count": 2,
   "metadata": {},
   "outputs": [
    {
     "name": "stdout",
     "output_type": "stream",
     "text": [
      "0\n"
     ]
    }
   ],
   "source": [
    "# Printing in Python\n",
    "\n",
    "print(amount)"
   ]
  },
  {
   "cell_type": "markdown",
   "metadata": {},
   "source": [
    "## Numbers and Arithmetic in Python"
   ]
  },
  {
   "cell_type": "code",
   "execution_count": 3,
   "metadata": {},
   "outputs": [
    {
     "data": {
      "text/plain": [
       "int"
      ]
     },
     "execution_count": 3,
     "metadata": {},
     "output_type": "execute_result"
    }
   ],
   "source": [
    "amount = 0\n",
    "\n",
    "type(amount)"
   ]
  },
  {
   "cell_type": "markdown",
   "metadata": {},
   "source": [
    "Here we created a variable named `amount` and assigned it a value of `0`.\n",
    "\n",
    "Now to know the type of variable in Python we can use `type()` (inbuilt) function."
   ]
  },
  {
   "cell_type": "code",
   "execution_count": 4,
   "metadata": {},
   "outputs": [
    {
     "data": {
      "text/plain": [
       "float"
      ]
     },
     "execution_count": 4,
     "metadata": {},
     "output_type": "execute_result"
    }
   ],
   "source": [
    "type(1.1)\n",
    "\n",
    "# It will show `float` - a number with a decimal place"
   ]
  },
  {
   "cell_type": "markdown",
   "metadata": {},
   "source": [
    "Now we will perform arithmetic operations in Python"
   ]
  },
  {
   "cell_type": "code",
   "execution_count": 5,
   "metadata": {},
   "outputs": [
    {
     "name": "stdout",
     "output_type": "stream",
     "text": [
      "Addition: 5 + 3 = 8\n",
      "Subtraction: 5 - 3 = 2\n",
      "Multiplication: 5 * 3 = 15\n",
      "True Division: 5 / 3 = 1.6666666666666667\n",
      "Floor Division: 5 // 3 = 1\n",
      "Modulus: 5 % 3 = 2\n",
      "Subtraction: 5 ** 3 = 125\n"
     ]
    }
   ],
   "source": [
    "# Create two variables\n",
    "\n",
    "a = 5\n",
    "b = 3\n",
    "\n",
    "# Addition\n",
    "\n",
    "c = a + b\n",
    "print(f\"Addition: {a} + {b} = {c}\")\n",
    "\n",
    "# Subtraction\n",
    "\n",
    "c = a - b\n",
    "print(f\"Subtraction: {a} - {b} = {c}\")\n",
    "\n",
    "# Multiplication\n",
    "\n",
    "c = a * b\n",
    "print(f\"Multiplication: {a} * {b} = {c}\")\n",
    "\n",
    "# True Division\n",
    "\n",
    "c = a / b\n",
    "print(f\"True Division: {a} / {b} = {c}\")\n",
    "\n",
    "# Floor Division\n",
    "\n",
    "c = a // b\n",
    "print(f\"Floor Division: {a} // {b} = {c}\")\n",
    "\n",
    "# Modulus\n",
    "\n",
    "c = a % b\n",
    "print(f\"Modulus: {a} % {b} = {c}\")\n",
    "\n",
    "# Exponantiation\n",
    "\n",
    "c = a ** b\n",
    "print(f\"Subtraction: {a} ** {b} = {c}\")"
   ]
  },
  {
   "cell_type": "markdown",
   "metadata": {},
   "source": [
    "### Some builtin functions for working with numbers\n",
    "\n",
    "`min` - returns minimun value from arguments\n",
    "\n",
    "`max` - return maximum value from arguments\n",
    "\n",
    "`abs` - returns absolute value of argument"
   ]
  },
  {
   "cell_type": "code",
   "execution_count": 6,
   "metadata": {},
   "outputs": [
    {
     "name": "stdout",
     "output_type": "stream",
     "text": [
      "0\n"
     ]
    }
   ],
   "source": [
    "# min\n",
    "print(min(3, 2, 5, 7, 0))"
   ]
  },
  {
   "cell_type": "code",
   "execution_count": 7,
   "metadata": {},
   "outputs": [
    {
     "name": "stdout",
     "output_type": "stream",
     "text": [
      "765\n"
     ]
    }
   ],
   "source": [
    "# max\n",
    "print(max(54, 324, 56, 765))"
   ]
  },
  {
   "cell_type": "code",
   "execution_count": 8,
   "metadata": {},
   "outputs": [
    {
     "name": "stdout",
     "output_type": "stream",
     "text": [
      "19\n",
      "78\n"
     ]
    }
   ],
   "source": [
    "# abs\n",
    "print(abs(-19))\n",
    "print(abs(78))"
   ]
  },
  {
   "cell_type": "markdown",
   "metadata": {},
   "source": [
    "Exercises of this tutorial solved at https://www.kaggle.com/mahendrabishnoi2/exercise-syntax-variables-and-numbers/"
   ]
  },
  {
   "cell_type": "markdown",
   "metadata": {},
   "source": [
    " "
   ]
  },
  {
   "cell_type": "code",
   "execution_count": null,
   "metadata": {},
   "outputs": [],
   "source": []
  }
 ],
 "metadata": {
  "kernelspec": {
   "display_name": "Python 3",
   "language": "python",
   "name": "python3"
  },
  "language_info": {
   "codemirror_mode": {
    "name": "ipython",
    "version": 3
   },
   "file_extension": ".py",
   "mimetype": "text/x-python",
   "name": "python",
   "nbconvert_exporter": "python",
   "pygments_lexer": "ipython3",
   "version": "3.6.8"
  }
 },
 "nbformat": 4,
 "nbformat_minor": 2
}

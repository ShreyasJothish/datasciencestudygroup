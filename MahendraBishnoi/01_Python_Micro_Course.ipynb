{
 "cells": [
  {
   "cell_type": "markdown",
   "metadata": {},
   "source": [
    "# Python"
   ]
  },
  {
   "cell_type": "markdown",
   "metadata": {},
   "source": [
    "1. https://www.kaggle.com/colinmorris/hello-python"
   ]
  },
  {
   "cell_type": "code",
   "execution_count": 1,
   "metadata": {},
   "outputs": [],
   "source": [
    "# Variables in Python\n",
    "\n",
    "amount = 0\n",
    "\n",
    "# Here we created a variable named \"amount\" in Python\n",
    "# \"amount\" is assigned a value of 0 using assignment operator \"=\"\n",
    "# No need to declare a variable in Python before assigning to it\n",
    "# Also no need to declare the type of variable like int or float etc.\n",
    "# We can also reassign this variable to any type "
   ]
  },
  {
   "cell_type": "code",
   "execution_count": 2,
   "metadata": {},
   "outputs": [
    {
     "name": "stdout",
     "output_type": "stream",
     "text": [
      "0\n"
     ]
    }
   ],
   "source": [
    "# Printing in Python\n",
    "\n",
    "print(amount)"
   ]
  },
  {
   "cell_type": "markdown",
   "metadata": {},
   "source": [
    "## Numbers and Arithmetic in Python"
   ]
  },
  {
   "cell_type": "code",
   "execution_count": 3,
   "metadata": {},
   "outputs": [
    {
     "data": {
      "text/plain": [
       "int"
      ]
     },
     "execution_count": 3,
     "metadata": {},
     "output_type": "execute_result"
    }
   ],
   "source": [
    "amount = 0\n",
    "\n",
    "type(amount)"
   ]
  },
  {
   "cell_type": "markdown",
   "metadata": {},
   "source": [
    "Here we created a variable named `amount` and assigned it a value of `0`.\n",
    "\n",
    "Now to know the type of variable in Python we can use `type()` (inbuilt) function."
   ]
  },
  {
   "cell_type": "code",
   "execution_count": 4,
   "metadata": {},
   "outputs": [
    {
     "data": {
      "text/plain": [
       "float"
      ]
     },
     "execution_count": 4,
     "metadata": {},
     "output_type": "execute_result"
    }
   ],
   "source": [
    "type(1.1)\n",
    "\n",
    "# It will show `float` - a number with a decimal place"
   ]
  },
  {
   "cell_type": "markdown",
   "metadata": {},
   "source": [
    "Now we will perform arithmetic operations in Python"
   ]
  },
  {
   "cell_type": "code",
   "execution_count": 5,
   "metadata": {},
   "outputs": [
    {
     "name": "stdout",
     "output_type": "stream",
     "text": [
      "Addition: 5 + 3 = 8\n",
      "Subtraction: 5 - 3 = 2\n",
      "Multiplication: 5 * 3 = 15\n",
      "True Division: 5 / 3 = 1.6666666666666667\n",
      "Floor Division: 5 // 3 = 1\n",
      "Modulus: 5 % 3 = 2\n",
      "Subtraction: 5 ** 3 = 125\n"
     ]
    }
   ],
   "source": [
    "# Create two variables\n",
    "\n",
    "a = 5\n",
    "b = 3\n",
    "\n",
    "# Addition\n",
    "\n",
    "c = a + b\n",
    "print(f\"Addition: {a} + {b} = {c}\")\n",
    "\n",
    "# Subtraction\n",
    "\n",
    "c = a - b\n",
    "print(f\"Subtraction: {a} - {b} = {c}\")\n",
    "\n",
    "# Multiplication\n",
    "\n",
    "c = a * b\n",
    "print(f\"Multiplication: {a} * {b} = {c}\")\n",
    "\n",
    "# True Division\n",
    "\n",
    "c = a / b\n",
    "print(f\"True Division: {a} / {b} = {c}\")\n",
    "\n",
    "# Floor Division\n",
    "\n",
    "c = a // b\n",
    "print(f\"Floor Division: {a} // {b} = {c}\")\n",
    "\n",
    "# Modulus\n",
    "\n",
    "c = a % b\n",
    "print(f\"Modulus: {a} % {b} = {c}\")\n",
    "\n",
    "# Exponantiation\n",
    "\n",
    "c = a ** b\n",
    "print(f\"Subtraction: {a} ** {b} = {c}\")"
   ]
  },
  {
   "cell_type": "markdown",
   "metadata": {},
   "source": [
    "### Some builtin functions for working with numbers\n",
    "\n",
    "`min` - returns minimun value from arguments\n",
    "\n",
    "`max` - return maximum value from arguments\n",
    "\n",
    "`abs` - returns absolute value of argument"
   ]
  },
  {
   "cell_type": "code",
   "execution_count": 6,
   "metadata": {},
   "outputs": [
    {
     "name": "stdout",
     "output_type": "stream",
     "text": [
      "0\n"
     ]
    }
   ],
   "source": [
    "# min\n",
    "print(min(3, 2, 5, 7, 0))"
   ]
  },
  {
   "cell_type": "code",
   "execution_count": 7,
   "metadata": {},
   "outputs": [
    {
     "name": "stdout",
     "output_type": "stream",
     "text": [
      "765\n"
     ]
    }
   ],
   "source": [
    "# max\n",
    "print(max(54, 324, 56, 765))"
   ]
  },
  {
   "cell_type": "code",
   "execution_count": 8,
   "metadata": {},
   "outputs": [
    {
     "name": "stdout",
     "output_type": "stream",
     "text": [
      "19\n",
      "78\n"
     ]
    }
   ],
   "source": [
    "# abs\n",
    "print(abs(-19))\n",
    "print(abs(78))"
   ]
  },
  {
   "cell_type": "markdown",
   "metadata": {},
   "source": [
    "Exercises of this tutorial solved at https://www.kaggle.com/mahendrabishnoi2/exercise-syntax-variables-and-numbers/"
   ]
  },
  {
   "cell_type": "markdown",
   "metadata": {},
   "source": [
    " "
   ]
  },
  {
   "cell_type": "markdown",
   "metadata": {},
   "source": [
    "2. https://www.kaggle.com/colinmorris/functions-and-getting-help"
   ]
  },
  {
   "cell_type": "markdown",
   "metadata": {},
   "source": [
    "## Functions and Getting Help"
   ]
  },
  {
   "cell_type": "markdown",
   "metadata": {},
   "source": [
    "### Getting Help"
   ]
  },
  {
   "cell_type": "markdown",
   "metadata": {},
   "source": [
    "We can use `help()` function to know what a function does. "
   ]
  },
  {
   "cell_type": "code",
   "execution_count": 9,
   "metadata": {},
   "outputs": [
    {
     "name": "stdout",
     "output_type": "stream",
     "text": [
      "Help on built-in function abs in module builtins:\n",
      "\n",
      "abs(x, /)\n",
      "    Return the absolute value of the argument.\n",
      "\n"
     ]
    }
   ],
   "source": [
    "help(abs)"
   ]
  },
  {
   "cell_type": "code",
   "execution_count": 10,
   "metadata": {},
   "outputs": [
    {
     "name": "stdout",
     "output_type": "stream",
     "text": [
      "Help on built-in function min in module builtins:\n",
      "\n",
      "min(...)\n",
      "    min(iterable, *[, default=obj, key=func]) -> value\n",
      "    min(arg1, arg2, *args, *[, key=func]) -> value\n",
      "    \n",
      "    With a single iterable argument, return its smallest item. The\n",
      "    default keyword-only argument specifies an object to return if\n",
      "    the provided iterable is empty.\n",
      "    With two or more arguments, return the smallest argument.\n",
      "\n"
     ]
    }
   ],
   "source": [
    "help(min)"
   ]
  },
  {
   "cell_type": "code",
   "execution_count": 11,
   "metadata": {},
   "outputs": [
    {
     "name": "stdout",
     "output_type": "stream",
     "text": [
      "Help on built-in function max in module builtins:\n",
      "\n",
      "max(...)\n",
      "    max(iterable, *[, default=obj, key=func]) -> value\n",
      "    max(arg1, arg2, *args, *[, key=func]) -> value\n",
      "    \n",
      "    With a single iterable argument, return its biggest item. The\n",
      "    default keyword-only argument specifies an object to return if\n",
      "    the provided iterable is empty.\n",
      "    With two or more arguments, return the largest argument.\n",
      "\n"
     ]
    }
   ],
   "source": [
    "help(max)"
   ]
  },
  {
   "cell_type": "markdown",
   "metadata": {},
   "source": [
    "### Defining Functions"
   ]
  },
  {
   "cell_type": "code",
   "execution_count": 12,
   "metadata": {},
   "outputs": [],
   "source": [
    "def least_diff(a, b, c):\n",
    "    diff1 = abs(a - b)\n",
    "    diff2 = abs(b - c)\n",
    "    diff3 = abs(c - a)\n",
    "    return min(diff1, diff2, diff3)"
   ]
  },
  {
   "cell_type": "markdown",
   "metadata": {},
   "source": [
    "Here we have created a function called `least_diff` which takes three arguments and returns least difference between these three arguments"
   ]
  },
  {
   "cell_type": "code",
   "execution_count": 13,
   "metadata": {},
   "outputs": [
    {
     "name": "stdout",
     "output_type": "stream",
     "text": [
      "5 30\n"
     ]
    }
   ],
   "source": [
    "print(\n",
    "    least_diff(1,54,6),\n",
    "    least_diff(3, 35, 65)\n",
    ")"
   ]
  },
  {
   "cell_type": "code",
   "execution_count": 14,
   "metadata": {},
   "outputs": [
    {
     "name": "stdout",
     "output_type": "stream",
     "text": [
      "Help on function least_diff in module __main__:\n",
      "\n",
      "least_diff(a, b, c)\n",
      "\n"
     ]
    }
   ],
   "source": [
    "help(least_diff)"
   ]
  },
  {
   "cell_type": "markdown",
   "metadata": {},
   "source": [
    "We need to add docstring to our function which will describe our function\n",
    "\n",
    "`help()` shows docstring"
   ]
  },
  {
   "cell_type": "code",
   "execution_count": 15,
   "metadata": {},
   "outputs": [],
   "source": [
    "def least_diff(a, b, c):\n",
    "    \"\"\"Return the smallest difference between any two\n",
    "    numbers among a, b and c\n",
    "    \n",
    "    >>> least_diff(3, -5, 8)\n",
    "    5\n",
    "    \"\"\"\n",
    "    diff1 = abs(a - b)\n",
    "    diff2 = abs(b - c)\n",
    "    diff3 = abs(c - a)\n",
    "    return min(diff1, diff2, diff3)"
   ]
  },
  {
   "cell_type": "code",
   "execution_count": 16,
   "metadata": {},
   "outputs": [
    {
     "name": "stdout",
     "output_type": "stream",
     "text": [
      "Help on function least_diff in module __main__:\n",
      "\n",
      "least_diff(a, b, c)\n",
      "    Return the smallest difference between any two\n",
      "    numbers among a, b and c\n",
      "    \n",
      "    >>> least_diff(3, -5, 8)\n",
      "    5\n",
      "\n"
     ]
    }
   ],
   "source": [
    "help(least_diff)"
   ]
  },
  {
   "cell_type": "markdown",
   "metadata": {},
   "source": [
    "We can create function that don't have return statement in Python.\n",
    "\n",
    "These functions return `None`"
   ]
  },
  {
   "cell_type": "markdown",
   "metadata": {},
   "source": [
    "#### Default Arguments"
   ]
  },
  {
   "cell_type": "code",
   "execution_count": 17,
   "metadata": {},
   "outputs": [],
   "source": [
    "def greet(name = \"Mahendra\"):\n",
    "    print(\"Hello,\",name)"
   ]
  },
  {
   "cell_type": "code",
   "execution_count": 18,
   "metadata": {},
   "outputs": [
    {
     "name": "stdout",
     "output_type": "stream",
     "text": [
      "Hello, Mahendra\n"
     ]
    }
   ],
   "source": [
    "greet()"
   ]
  },
  {
   "cell_type": "code",
   "execution_count": 19,
   "metadata": {},
   "outputs": [
    {
     "name": "stdout",
     "output_type": "stream",
     "text": [
      "Hello, Vikash\n"
     ]
    }
   ],
   "source": [
    "greet(\"Vikash\")"
   ]
  },
  {
   "cell_type": "markdown",
   "metadata": {},
   "source": [
    "#### Functions applied to functions"
   ]
  },
  {
   "cell_type": "code",
   "execution_count": 20,
   "metadata": {},
   "outputs": [],
   "source": [
    "def mult_by_five(x):\n",
    "    return 5 * x\n",
    "\n",
    "def call(fn, arg):\n",
    "    \"\"\"call fn on arg\"\"\"\n",
    "    return fn(arg)\n",
    "\n",
    "def squared_call(fn, arg):\n",
    "    \"\"\"call fn on the result of calling fn on arg\"\"\"\n",
    "    return fn(fn(arg))"
   ]
  },
  {
   "cell_type": "code",
   "execution_count": 21,
   "metadata": {},
   "outputs": [
    {
     "name": "stdout",
     "output_type": "stream",
     "text": [
      "5\n",
      "5\n",
      "25\n"
     ]
    }
   ],
   "source": [
    "print(\n",
    "    mult_by_five(1),\n",
    "    call(mult_by_five, 1),\n",
    "    squared_call(mult_by_five, 1),\n",
    "    sep = \"\\n\"   # Changing default argument \" \" to newline character \"\\n\"\n",
    ")"
   ]
  },
  {
   "cell_type": "markdown",
   "metadata": {},
   "source": [
    "functions that operate on other functions are called higer order functions."
   ]
  },
  {
   "cell_type": "code",
   "execution_count": 22,
   "metadata": {},
   "outputs": [
    {
     "name": "stdout",
     "output_type": "stream",
     "text": [
      "Which number is biggest?\n",
      "21\n",
      "Which number is biggest modulo 5?\n",
      "17\n"
     ]
    }
   ],
   "source": [
    "def mod_5(x):\n",
    "    \"\"\"Returns the remainder of x after division by 5\"\"\"\n",
    "    return x % 5\n",
    "\n",
    "print(\n",
    "    \"Which number is biggest?\",\n",
    "    max(16, 17, 21), \n",
    "    \"Which number is biggest modulo 5?\",\n",
    "    max(16, 17, 21, key=mod_5),\n",
    "    sep = \"\\n\"\n",
    ")"
   ]
  },
  {
   "cell_type": "markdown",
   "metadata": {},
   "source": [
    "Exercises of this tutorial solved at https://www.kaggle.com/mahendrabishnoi2/exercise-functions-and-getting-help"
   ]
  },
  {
   "cell_type": "markdown",
   "metadata": {},
   "source": [
    " "
   ]
  },
  {
   "cell_type": "markdown",
   "metadata": {},
   "source": [
    "3. https://www.kaggle.com/colinmorris/booleans-and-conditionals"
   ]
  },
  {
   "cell_type": "markdown",
   "metadata": {},
   "source": [
    "## Booleans and Conditionals"
   ]
  },
  {
   "cell_type": "markdown",
   "metadata": {},
   "source": [
    "### Booleans\n",
    "\n",
    "can take two values. either `True` or `False`"
   ]
  },
  {
   "cell_type": "code",
   "execution_count": 23,
   "metadata": {},
   "outputs": [
    {
     "name": "stdout",
     "output_type": "stream",
     "text": [
      "True\n",
      "<class 'bool'>\n"
     ]
    }
   ],
   "source": [
    "x = True\n",
    "print(x)\n",
    "print(type(x))"
   ]
  },
  {
   "cell_type": "raw",
   "metadata": {},
   "source": [
    "Boolean operations:\n",
    "\n",
    "a == b (a equal to b)\n",
    "a != b (a not equal to b)\n",
    "a < b (a less than b)\n",
    "a > b (a greater than b)\n",
    "a <= b (a less than or equal to b)\n",
    "a >= b (a greater than or equal to b)"
   ]
  },
  {
   "cell_type": "code",
   "execution_count": 24,
   "metadata": {},
   "outputs": [],
   "source": [
    "def can_run_for_president(age):\n",
    "    \"\"\"Can someone of given age run for president in India\"\"\"\n",
    "    # Indian Constitution requires age of 35 to run for president\n",
    "    return age >= 35"
   ]
  },
  {
   "cell_type": "code",
   "execution_count": 25,
   "metadata": {},
   "outputs": [
    {
     "name": "stdout",
     "output_type": "stream",
     "text": [
      "False\n",
      "True\n"
     ]
    }
   ],
   "source": [
    "print(can_run_for_president(21))\n",
    "print(can_run_for_president(41))"
   ]
  },
  {
   "cell_type": "markdown",
   "metadata": {},
   "source": [
    "Operator precedence https://docs.python.org/3/reference/expressions.html#operator-precedence"
   ]
  },
  {
   "cell_type": "markdown",
   "metadata": {},
   "source": [
    "### Conditionals\n",
    "`if` `elif` `else`"
   ]
  },
  {
   "cell_type": "code",
   "execution_count": 26,
   "metadata": {},
   "outputs": [],
   "source": [
    "def inspect(x):\n",
    "    if x == 0:\n",
    "        print(x, \"is zero\")\n",
    "    elif x < 0:\n",
    "        print(x, \"is negative\")\n",
    "    elif x > 0:\n",
    "        print(x, \"is positive\")\n",
    "    else:\n",
    "        print(\"x is unlike anything I've ever seen\")"
   ]
  },
  {
   "cell_type": "code",
   "execution_count": 27,
   "metadata": {},
   "outputs": [
    {
     "name": "stdout",
     "output_type": "stream",
     "text": [
      "-9 is negative\n",
      "0 is zero\n",
      "9 is positive\n"
     ]
    }
   ],
   "source": [
    "inspect(-9)\n",
    "inspect(0)\n",
    "inspect(9)"
   ]
  },
  {
   "cell_type": "code",
   "execution_count": 28,
   "metadata": {},
   "outputs": [],
   "source": [
    "def f(x):\n",
    "    if x > 0:\n",
    "        print(\"only printed when x is positive, x is\", x)\n",
    "        print(\"Also only printed if x is positive, x is \", x)\n",
    "    print(\"This is printed regardless of x's value, x is\", x)"
   ]
  },
  {
   "cell_type": "code",
   "execution_count": 29,
   "metadata": {},
   "outputs": [
    {
     "name": "stdout",
     "output_type": "stream",
     "text": [
      "only printed when x is positive, x is 8\n",
      "Also only printed if x is positive, x is  8\n",
      "This is printed regardless of x's value, x is 8\n"
     ]
    }
   ],
   "source": [
    "f(8)"
   ]
  },
  {
   "cell_type": "markdown",
   "metadata": {},
   "source": [
    "### Boolean Conversion"
   ]
  },
  {
   "cell_type": "code",
   "execution_count": 30,
   "metadata": {},
   "outputs": [
    {
     "name": "stdout",
     "output_type": "stream",
     "text": [
      "True\n",
      "False\n",
      "True\n",
      "True\n"
     ]
    }
   ],
   "source": [
    "# All numbers are treated as True except 0\n",
    "print(bool(1))\n",
    "print(bool(0))\n",
    "print(bool(9))\n",
    "print(bool(-7))"
   ]
  },
  {
   "cell_type": "code",
   "execution_count": 31,
   "metadata": {},
   "outputs": [
    {
     "name": "stdout",
     "output_type": "stream",
     "text": [
      "True\n",
      "True\n",
      "False\n",
      "False\n",
      "False\n",
      "True\n"
     ]
    }
   ],
   "source": [
    "# Empty sequences (strings, list, tuples, dicts etc) are treated as False and rest are True\n",
    "print(bool(\"abc\"))\n",
    "print(bool('a'))\n",
    "print(bool(''))\n",
    "print(bool([]))\n",
    "print(bool({}))\n",
    "print(bool([1,2,3]))"
   ]
  },
  {
   "cell_type": "markdown",
   "metadata": {},
   "source": [
    "### Conditional Expressions"
   ]
  },
  {
   "cell_type": "code",
   "execution_count": 32,
   "metadata": {},
   "outputs": [],
   "source": [
    "def quiz_message(grade):\n",
    "    if grade < 50:\n",
    "        outcome = \"failed\"\n",
    "    else:\n",
    "        outcome = \"passed\"\n",
    "    print(\"You\", outcome, \"the quiz with a grade of\", grade)"
   ]
  },
  {
   "cell_type": "code",
   "execution_count": 33,
   "metadata": {},
   "outputs": [
    {
     "name": "stdout",
     "output_type": "stream",
     "text": [
      "You failed the quiz with a grade of 48\n",
      "You passed the quiz with a grade of 89\n"
     ]
    }
   ],
   "source": [
    "quiz_message(48)\n",
    "quiz_message(89)"
   ]
  },
  {
   "cell_type": "markdown",
   "metadata": {},
   "source": [
    "Above function's `if` `else` part can be written in single line to simplify things"
   ]
  },
  {
   "cell_type": "code",
   "execution_count": 34,
   "metadata": {},
   "outputs": [],
   "source": [
    "def quiz_message(grade):\n",
    "    outcome = \"failed\" if grade < 50 else \"passed\"\n",
    "    print(\"You\", outcome, \"the quiz with a grade of\", grade)"
   ]
  },
  {
   "cell_type": "code",
   "execution_count": 35,
   "metadata": {},
   "outputs": [
    {
     "name": "stdout",
     "output_type": "stream",
     "text": [
      "You failed the quiz with a grade of 48\n",
      "You passed the quiz with a grade of 89\n"
     ]
    }
   ],
   "source": [
    "quiz_message(48)\n",
    "quiz_message(89)"
   ]
  },
  {
   "cell_type": "markdown",
   "metadata": {},
   "source": [
    "It's similar to ternary operator in other languages."
   ]
  },
  {
   "cell_type": "markdown",
   "metadata": {},
   "source": [
    "Exercises of this tutorial solved at https://www.kaggle.com/mahendrabishnoi2/exercise-booleans-and-conditionals"
   ]
  },
  {
   "cell_type": "code",
   "execution_count": null,
   "metadata": {},
   "outputs": [],
   "source": []
  }
 ],
 "metadata": {
  "kernelspec": {
   "display_name": "Python 3",
   "language": "python",
   "name": "python3"
  },
  "language_info": {
   "codemirror_mode": {
    "name": "ipython",
    "version": 3
   },
   "file_extension": ".py",
   "mimetype": "text/x-python",
   "name": "python",
   "nbconvert_exporter": "python",
   "pygments_lexer": "ipython3",
   "version": "3.6.8"
  }
 },
 "nbformat": 4,
 "nbformat_minor": 2
}
